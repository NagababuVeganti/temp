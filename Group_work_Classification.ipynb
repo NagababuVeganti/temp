{
  "cells": [
    {
      "cell_type": "markdown",
      "metadata": {
        "id": "view-in-github",
        "colab_type": "text"
      },
      "source": [
        "<a href=\"https://colab.research.google.com/github/NagababuVeganti/temp/blob/main/Group_work_Classification.ipynb\" target=\"_parent\"><img src=\"https://colab.research.google.com/assets/colab-badge.svg\" alt=\"Open In Colab\"/></a>"
      ]
    },
    {
      "cell_type": "markdown",
      "metadata": {
        "id": "AS_CS5mMVfM1"
      },
      "source": [
        "# Group work - Classification"
      ]
    },
    {
      "cell_type": "markdown",
      "metadata": {
        "id": "uIOG7ruwVfM2"
      },
      "source": [
        "In this assignment, we will focus on sports analytics. This data set is made available by http://www.baseball-reference.com. It contains data about professional baseball (MLB) games played in the 2016 season. There are 2,427 games in the data set. Each row represents a single game. The goal is to predict the attendance at a home team’s game. This is an important task because most franchises want to predict the number of attendees for a variety of reasons including profits."
      ]
    },
    {
      "cell_type": "markdown",
      "metadata": {
        "id": "7H9weqZ1VfM2"
      },
      "source": [
        "## Description of Variables\n",
        "\n",
        "The description of variables are provided in \"Baseball - Data Dictionary.docx\""
      ]
    },
    {
      "cell_type": "markdown",
      "metadata": {
        "id": "HT58uRpaVfM3"
      },
      "source": [
        "## Goal\n",
        "\n",
        "Use the **baseball.csv** data set and build a model to predict **attendance_binary**."
      ]
    },
    {
      "cell_type": "markdown",
      "metadata": {
        "id": "WOFUJwaHVfM3"
      },
      "source": [
        "## Submission:\n",
        "\n",
        "Please save and submit this Jupyter notebook file. The correctness of the code matters for your grade. **Readability and organization of your code is also important.** You may lose points for submitting unreadable/undecipherable code. Therefore, use markdown cells to create sections, and use comments where necessary.\n"
      ]
    },
    {
      "cell_type": "markdown",
      "metadata": {
        "id": "WzY71zN7VfM3"
      },
      "source": [
        "## Recommended roles for group members:\n",
        "\n",
        "**Section 1:** to be completed by both group members\n",
        "\n",
        "**Section 2:** to be completed by the first group member and checked by the second\n",
        "\n",
        "**Section 3:** to be completed by the second group member and checked by the first\n",
        "\n",
        "**Important notes:**\n",
        "- Both group members will get the same grade. Therefore, you should check the work of your group member. If they make a mistake, you will be responsible for that mistake too.\n",
        "- Both group members must put in their fair share of effort. Otherwise, those who don't contribute to the assignment will not receive any grade.\n"
      ]
    },
    {
      "cell_type": "markdown",
      "metadata": {
        "id": "l6TYabVCVfM4"
      },
      "source": [
        "# Section 1: (6 points in total)"
      ]
    },
    {
      "cell_type": "markdown",
      "metadata": {
        "id": "YT0fb5_oVfM4"
      },
      "source": [
        "## Data Prep (5.5 points)"
      ]
    },
    {
      "cell_type": "code",
      "execution_count": null,
      "metadata": {
        "id": "eo9lAUknVfM4"
      },
      "outputs": [],
      "source": [
        "#Loading the required  libraries\n",
        "import pandas as pd\n",
        "import numpy as np\n",
        "from sklearn.model_selection import train_test_split\n",
        "\n",
        "np.random.seed(46046025)"
      ]
    },
    {
      "cell_type": "code",
      "execution_count": null,
      "metadata": {
        "id": "d99UUjN0VfM5"
      },
      "outputs": [],
      "source": [
        "#Loading the Dataset\n",
        "game_data=pd.read_csv('baseball.csv')"
      ]
    },
    {
      "cell_type": "code",
      "execution_count": null,
      "metadata": {
        "id": "jM7OUgeuVfM5",
        "colab": {
          "base_uri": "https://localhost:8080/",
          "height": 270
        },
        "outputId": "51bc3d9c-aecd-47c0-ab3a-57e63d8d77ab"
      },
      "outputs": [
        {
          "output_type": "execute_result",
          "data": {
            "text/html": [
              "\n",
              "  <div id=\"df-ee97c290-c4f3-4d16-ab83-2d578580a2fb\">\n",
              "    <div class=\"colab-df-container\">\n",
              "      <div>\n",
              "<style scoped>\n",
              "    .dataframe tbody tr th:only-of-type {\n",
              "        vertical-align: middle;\n",
              "    }\n",
              "\n",
              "    .dataframe tbody tr th {\n",
              "        vertical-align: top;\n",
              "    }\n",
              "\n",
              "    .dataframe thead th {\n",
              "        text-align: right;\n",
              "    }\n",
              "</style>\n",
              "<table border=\"1\" class=\"dataframe\">\n",
              "  <thead>\n",
              "    <tr style=\"text-align: right;\">\n",
              "      <th></th>\n",
              "      <th>attendance_binary</th>\n",
              "      <th>previous_attendance</th>\n",
              "      <th>previous_away_team_errors</th>\n",
              "      <th>previous_away_team_hits</th>\n",
              "      <th>previous_away_team_runs</th>\n",
              "      <th>game_type</th>\n",
              "      <th>previous_game_type</th>\n",
              "      <th>previous_home_team_errors</th>\n",
              "      <th>previous_home_team_hits</th>\n",
              "      <th>previous_home_team_runs</th>\n",
              "      <th>game_day</th>\n",
              "      <th>previous_game_day</th>\n",
              "      <th>temperature</th>\n",
              "      <th>wind_speed</th>\n",
              "      <th>sky</th>\n",
              "      <th>previous_game_duration</th>\n",
              "      <th>previous_homewin</th>\n",
              "    </tr>\n",
              "  </thead>\n",
              "  <tbody>\n",
              "    <tr>\n",
              "      <th>0</th>\n",
              "      <td>0</td>\n",
              "      <td>43683</td>\n",
              "      <td>2</td>\n",
              "      <td>6</td>\n",
              "      <td>2</td>\n",
              "      <td>Night Game</td>\n",
              "      <td>Day Game</td>\n",
              "      <td>0</td>\n",
              "      <td>6</td>\n",
              "      <td>6</td>\n",
              "      <td>Wednesday</td>\n",
              "      <td>Monday</td>\n",
              "      <td>55</td>\n",
              "      <td>24</td>\n",
              "      <td>Overcast</td>\n",
              "      <td>2.933333</td>\n",
              "      <td>1</td>\n",
              "    </tr>\n",
              "    <tr>\n",
              "      <th>1</th>\n",
              "      <td>0</td>\n",
              "      <td>45785</td>\n",
              "      <td>0</td>\n",
              "      <td>7</td>\n",
              "      <td>2</td>\n",
              "      <td>Night Game</td>\n",
              "      <td>Day Game</td>\n",
              "      <td>0</td>\n",
              "      <td>10</td>\n",
              "      <td>3</td>\n",
              "      <td>Wednesday</td>\n",
              "      <td>Monday</td>\n",
              "      <td>48</td>\n",
              "      <td>7</td>\n",
              "      <td>Unknown</td>\n",
              "      <td>2.800000</td>\n",
              "      <td>1</td>\n",
              "    </tr>\n",
              "    <tr>\n",
              "      <th>2</th>\n",
              "      <td>0</td>\n",
              "      <td>48282</td>\n",
              "      <td>0</td>\n",
              "      <td>8</td>\n",
              "      <td>4</td>\n",
              "      <td>Night Game</td>\n",
              "      <td>Day Game</td>\n",
              "      <td>2</td>\n",
              "      <td>4</td>\n",
              "      <td>3</td>\n",
              "      <td>Wednesday</td>\n",
              "      <td>Monday</td>\n",
              "      <td>65</td>\n",
              "      <td>10</td>\n",
              "      <td>Cloudy</td>\n",
              "      <td>3.383333</td>\n",
              "      <td>0</td>\n",
              "    </tr>\n",
              "    <tr>\n",
              "      <th>3</th>\n",
              "      <td>0</td>\n",
              "      <td>21830</td>\n",
              "      <td>0</td>\n",
              "      <td>9</td>\n",
              "      <td>6</td>\n",
              "      <td>Day Game</td>\n",
              "      <td>Night Game</td>\n",
              "      <td>0</td>\n",
              "      <td>15</td>\n",
              "      <td>11</td>\n",
              "      <td>Wednesday</td>\n",
              "      <td>Tuesday</td>\n",
              "      <td>77</td>\n",
              "      <td>0</td>\n",
              "      <td>In Dome</td>\n",
              "      <td>3.233333</td>\n",
              "      <td>1</td>\n",
              "    </tr>\n",
              "    <tr>\n",
              "      <th>4</th>\n",
              "      <td>0</td>\n",
              "      <td>49289</td>\n",
              "      <td>2</td>\n",
              "      <td>4</td>\n",
              "      <td>2</td>\n",
              "      <td>Night Game</td>\n",
              "      <td>Day Game</td>\n",
              "      <td>1</td>\n",
              "      <td>1</td>\n",
              "      <td>3</td>\n",
              "      <td>Tuesday</td>\n",
              "      <td>Monday</td>\n",
              "      <td>81</td>\n",
              "      <td>12</td>\n",
              "      <td>Cloudy</td>\n",
              "      <td>2.633333</td>\n",
              "      <td>1</td>\n",
              "    </tr>\n",
              "  </tbody>\n",
              "</table>\n",
              "</div>\n",
              "      <button class=\"colab-df-convert\" onclick=\"convertToInteractive('df-ee97c290-c4f3-4d16-ab83-2d578580a2fb')\"\n",
              "              title=\"Convert this dataframe to an interactive table.\"\n",
              "              style=\"display:none;\">\n",
              "        \n",
              "  <svg xmlns=\"http://www.w3.org/2000/svg\" height=\"24px\"viewBox=\"0 0 24 24\"\n",
              "       width=\"24px\">\n",
              "    <path d=\"M0 0h24v24H0V0z\" fill=\"none\"/>\n",
              "    <path d=\"M18.56 5.44l.94 2.06.94-2.06 2.06-.94-2.06-.94-.94-2.06-.94 2.06-2.06.94zm-11 1L8.5 8.5l.94-2.06 2.06-.94-2.06-.94L8.5 2.5l-.94 2.06-2.06.94zm10 10l.94 2.06.94-2.06 2.06-.94-2.06-.94-.94-2.06-.94 2.06-2.06.94z\"/><path d=\"M17.41 7.96l-1.37-1.37c-.4-.4-.92-.59-1.43-.59-.52 0-1.04.2-1.43.59L10.3 9.45l-7.72 7.72c-.78.78-.78 2.05 0 2.83L4 21.41c.39.39.9.59 1.41.59.51 0 1.02-.2 1.41-.59l7.78-7.78 2.81-2.81c.8-.78.8-2.07 0-2.86zM5.41 20L4 18.59l7.72-7.72 1.47 1.35L5.41 20z\"/>\n",
              "  </svg>\n",
              "      </button>\n",
              "      \n",
              "  <style>\n",
              "    .colab-df-container {\n",
              "      display:flex;\n",
              "      flex-wrap:wrap;\n",
              "      gap: 12px;\n",
              "    }\n",
              "\n",
              "    .colab-df-convert {\n",
              "      background-color: #E8F0FE;\n",
              "      border: none;\n",
              "      border-radius: 50%;\n",
              "      cursor: pointer;\n",
              "      display: none;\n",
              "      fill: #1967D2;\n",
              "      height: 32px;\n",
              "      padding: 0 0 0 0;\n",
              "      width: 32px;\n",
              "    }\n",
              "\n",
              "    .colab-df-convert:hover {\n",
              "      background-color: #E2EBFA;\n",
              "      box-shadow: 0px 1px 2px rgba(60, 64, 67, 0.3), 0px 1px 3px 1px rgba(60, 64, 67, 0.15);\n",
              "      fill: #174EA6;\n",
              "    }\n",
              "\n",
              "    [theme=dark] .colab-df-convert {\n",
              "      background-color: #3B4455;\n",
              "      fill: #D2E3FC;\n",
              "    }\n",
              "\n",
              "    [theme=dark] .colab-df-convert:hover {\n",
              "      background-color: #434B5C;\n",
              "      box-shadow: 0px 1px 3px 1px rgba(0, 0, 0, 0.15);\n",
              "      filter: drop-shadow(0px 1px 2px rgba(0, 0, 0, 0.3));\n",
              "      fill: #FFFFFF;\n",
              "    }\n",
              "  </style>\n",
              "\n",
              "      <script>\n",
              "        const buttonEl =\n",
              "          document.querySelector('#df-ee97c290-c4f3-4d16-ab83-2d578580a2fb button.colab-df-convert');\n",
              "        buttonEl.style.display =\n",
              "          google.colab.kernel.accessAllowed ? 'block' : 'none';\n",
              "\n",
              "        async function convertToInteractive(key) {\n",
              "          const element = document.querySelector('#df-ee97c290-c4f3-4d16-ab83-2d578580a2fb');\n",
              "          const dataTable =\n",
              "            await google.colab.kernel.invokeFunction('convertToInteractive',\n",
              "                                                     [key], {});\n",
              "          if (!dataTable) return;\n",
              "\n",
              "          const docLinkHtml = 'Like what you see? Visit the ' +\n",
              "            '<a target=\"_blank\" href=https://colab.research.google.com/notebooks/data_table.ipynb>data table notebook</a>'\n",
              "            + ' to learn more about interactive tables.';\n",
              "          element.innerHTML = '';\n",
              "          dataTable['output_type'] = 'display_data';\n",
              "          await google.colab.output.renderOutput(dataTable, element);\n",
              "          const docLink = document.createElement('div');\n",
              "          docLink.innerHTML = docLinkHtml;\n",
              "          element.appendChild(docLink);\n",
              "        }\n",
              "      </script>\n",
              "    </div>\n",
              "  </div>\n",
              "  "
            ],
            "text/plain": [
              "   attendance_binary  ...  previous_homewin\n",
              "0                  0  ...                 1\n",
              "1                  0  ...                 1\n",
              "2                  0  ...                 0\n",
              "3                  0  ...                 1\n",
              "4                  0  ...                 1\n",
              "\n",
              "[5 rows x 17 columns]"
            ]
          },
          "metadata": {},
          "execution_count": 4
        }
      ],
      "source": [
        "#Preview the Loaded data\n",
        "game_data.head()"
      ]
    },
    {
      "cell_type": "markdown",
      "source": [
        "# Split the data into train and test"
      ],
      "metadata": {
        "id": "h7Asb4bflGP1"
      }
    },
    {
      "cell_type": "code",
      "execution_count": null,
      "metadata": {
        "id": "sJr0h6dLVfM5"
      },
      "outputs": [],
      "source": [
        "train_set, test_set = train_test_split(game_data, test_size=0.25)"
      ]
    },
    {
      "cell_type": "markdown",
      "source": [
        "## Check the missing values\n"
      ],
      "metadata": {
        "id": "4n2PHi0ulnVy"
      }
    },
    {
      "cell_type": "code",
      "source": [
        "train_set.isna().sum()"
      ],
      "metadata": {
        "colab": {
          "base_uri": "https://localhost:8080/"
        },
        "id": "NxEJfjABlD4A",
        "outputId": "511d9985-5b54-45d1-b8b7-f740b9598c79"
      },
      "execution_count": null,
      "outputs": [
        {
          "output_type": "execute_result",
          "data": {
            "text/plain": [
              "attendance_binary            0\n",
              "previous_attendance          0\n",
              "previous_away_team_errors    0\n",
              "previous_away_team_hits      0\n",
              "previous_away_team_runs      0\n",
              "game_type                    0\n",
              "previous_game_type           0\n",
              "previous_home_team_errors    0\n",
              "previous_home_team_hits      0\n",
              "previous_home_team_runs      0\n",
              "game_day                     0\n",
              "previous_game_day            0\n",
              "temperature                  0\n",
              "wind_speed                   0\n",
              "sky                          0\n",
              "previous_game_duration       0\n",
              "previous_homewin             0\n",
              "dtype: int64"
            ]
          },
          "metadata": {},
          "execution_count": 6
        }
      ]
    },
    {
      "cell_type": "code",
      "source": [
        "test_set.isna().sum()"
      ],
      "metadata": {
        "colab": {
          "base_uri": "https://localhost:8080/"
        },
        "id": "xuWy8rHqlD7X",
        "outputId": "410c8ff1-4ce1-49ef-873a-90fcb924cf39"
      },
      "execution_count": null,
      "outputs": [
        {
          "output_type": "execute_result",
          "data": {
            "text/plain": [
              "attendance_binary            0\n",
              "previous_attendance          0\n",
              "previous_away_team_errors    0\n",
              "previous_away_team_hits      0\n",
              "previous_away_team_runs      0\n",
              "game_type                    0\n",
              "previous_game_type           0\n",
              "previous_home_team_errors    0\n",
              "previous_home_team_hits      0\n",
              "previous_home_team_runs      0\n",
              "game_day                     0\n",
              "previous_game_day            0\n",
              "temperature                  0\n",
              "wind_speed                   0\n",
              "sky                          0\n",
              "previous_game_duration       0\n",
              "previous_homewin             0\n",
              "dtype: int64"
            ]
          },
          "metadata": {},
          "execution_count": 7
        }
      ]
    },
    {
      "cell_type": "markdown",
      "source": [
        "**Observation**: From the above we can see that we dont have any missing values in the dataset so there is no need to imputing values in to the columns"
      ],
      "metadata": {
        "id": "9lKoRU2rlt3d"
      }
    },
    {
      "cell_type": "markdown",
      "source": [
        "# Data Prep"
      ],
      "metadata": {
        "id": "hkzSxCZ1miSs"
      }
    },
    {
      "cell_type": "code",
      "source": [
        "from sklearn.compose import ColumnTransformer\n",
        "from sklearn.pipeline import Pipeline\n",
        "from sklearn.impute import SimpleImputer\n",
        "from sklearn.preprocessing import StandardScaler\n",
        "from sklearn.preprocessing import OneHotEncoder"
      ],
      "metadata": {
        "id": "mFxlm4cIlECI"
      },
      "execution_count": null,
      "outputs": []
    },
    {
      "cell_type": "code",
      "source": [
        "train_y = train_set[['attendance_binary']]\n",
        "test_y = test_set[['attendance_binary']]\n",
        "\n",
        "train_inputs = train_set.drop(['attendance_binary'], axis=1)\n",
        "test_inputs = test_set.drop(['attendance_binary'], axis=1)"
      ],
      "metadata": {
        "id": "oyEyzGu6maPn"
      },
      "execution_count": null,
      "outputs": []
    },
    {
      "cell_type": "markdown",
      "source": [
        "# Building Data pipeline to process the Data"
      ],
      "metadata": {
        "id": "13x4gbienItb"
      }
    },
    {
      "cell_type": "code",
      "source": [
        "train_inputs.dtypes"
      ],
      "metadata": {
        "colab": {
          "base_uri": "https://localhost:8080/"
        },
        "id": "dxbhG9K3mj_A",
        "outputId": "c427407e-c730-4766-d589-48ed519927d7"
      },
      "execution_count": null,
      "outputs": [
        {
          "output_type": "execute_result",
          "data": {
            "text/plain": [
              "previous_attendance            int64\n",
              "previous_away_team_errors      int64\n",
              "previous_away_team_hits        int64\n",
              "previous_away_team_runs        int64\n",
              "game_type                     object\n",
              "previous_game_type            object\n",
              "previous_home_team_errors      int64\n",
              "previous_home_team_hits        int64\n",
              "previous_home_team_runs        int64\n",
              "game_day                      object\n",
              "previous_game_day             object\n",
              "temperature                    int64\n",
              "wind_speed                     int64\n",
              "sky                           object\n",
              "previous_game_duration       float64\n",
              "previous_homewin               int64\n",
              "dtype: object"
            ]
          },
          "metadata": {},
          "execution_count": 10
        }
      ]
    },
    {
      "cell_type": "code",
      "source": [
        "# Identify the numerical columns\n",
        "numeric_columns = train_inputs.select_dtypes(include=[np.number]).columns.to_list()\n",
        "\n",
        "# Identify the categorical columns\n",
        "categorical_columns = train_inputs.select_dtypes('object').columns.to_list()"
      ],
      "metadata": {
        "id": "vpbScwP0mkB2"
      },
      "execution_count": null,
      "outputs": []
    },
    {
      "cell_type": "code",
      "source": [
        "# Identify the binary columns so we can pass them through without transforming\n",
        "binary_columns = ['previous_homewin']"
      ],
      "metadata": {
        "id": "ddViScQHmkLO"
      },
      "execution_count": null,
      "outputs": []
    },
    {
      "cell_type": "code",
      "source": [
        "#we need to remove the binary columns from numerical columns.\n",
        "for col in binary_columns:\n",
        "    numeric_columns.remove(col)"
      ],
      "metadata": {
        "id": "BOhwtF7PmaSs"
      },
      "execution_count": null,
      "outputs": []
    },
    {
      "cell_type": "markdown",
      "source": [
        "#PipeLine"
      ],
      "metadata": {
        "id": "QUlKWsVqXaJo"
      }
    },
    {
      "cell_type": "code",
      "source": [
        "#Here i used mean of the column as a imputer\n",
        "numeric_transformer = Pipeline(steps=[\n",
        "                ('imputer', SimpleImputer(strategy='mean')),\n",
        "                ('scaler', StandardScaler())])"
      ],
      "metadata": {
        "id": "t1KgQ9HamaVB"
      },
      "execution_count": null,
      "outputs": []
    },
    {
      "cell_type": "code",
      "source": [
        "categorical_transformer = Pipeline(steps=[\n",
        "    ('imputer', SimpleImputer(strategy='constant', fill_value='unknown')),\n",
        "    ('onehot', OneHotEncoder(handle_unknown='ignore'))])"
      ],
      "metadata": {
        "id": "NHG6dOrpmaXn"
      },
      "execution_count": null,
      "outputs": []
    },
    {
      "cell_type": "code",
      "source": [
        "binary_transformer = Pipeline(steps=[\n",
        "    ('imputer', SimpleImputer(strategy='most_frequent'))])"
      ],
      "metadata": {
        "id": "-v-e73PTmaZv"
      },
      "execution_count": null,
      "outputs": []
    },
    {
      "cell_type": "code",
      "source": [
        "#passing the pipe line to ColumnTransformer \n",
        "\n",
        "preprocessor = ColumnTransformer([\n",
        "        ('num', numeric_transformer, numeric_columns),\n",
        "        ('cat', categorical_transformer, categorical_columns),\n",
        "        ('binary', binary_transformer, binary_columns)],\n",
        "        remainder='passthrough')\n",
        "\n",
        "#passtrough is an optional step. You don't have to use it."
      ],
      "metadata": {
        "id": "gpk2x48OlDNv"
      },
      "execution_count": null,
      "outputs": []
    },
    {
      "cell_type": "markdown",
      "source": [
        "# Transform: fit_transform() for TRAIN"
      ],
      "metadata": {
        "id": "h6wDnpOqX6g7"
      }
    },
    {
      "cell_type": "code",
      "source": [
        "#Fit and transform the train data\n",
        "train_x = preprocessor.fit_transform(train_inputs)\n",
        "\n",
        "train_x.shape"
      ],
      "metadata": {
        "colab": {
          "base_uri": "https://localhost:8080/"
        },
        "id": "ZJ5mgaJZXusa",
        "outputId": "bb90fade-fa74-42cc-a383-fd1f148c1526"
      },
      "execution_count": null,
      "outputs": [
        {
          "output_type": "execute_result",
          "data": {
            "text/plain": [
              "(1820, 37)"
            ]
          },
          "metadata": {},
          "execution_count": 18
        }
      ]
    },
    {
      "cell_type": "markdown",
      "source": [
        "# Tranform: transform() for TEST"
      ],
      "metadata": {
        "id": "q4JmXyKkYH0i"
      }
    },
    {
      "cell_type": "code",
      "source": [
        "# Transform the test data\n",
        "test_x = preprocessor.transform(test_inputs)\n",
        "\n",
        "test_x.shape"
      ],
      "metadata": {
        "colab": {
          "base_uri": "https://localhost:8080/"
        },
        "id": "y5uge4NQXuvy",
        "outputId": "1e85482e-690c-42ed-b369-65700e41445e"
      },
      "execution_count": null,
      "outputs": [
        {
          "output_type": "execute_result",
          "data": {
            "text/plain": [
              "(607, 37)"
            ]
          },
          "metadata": {},
          "execution_count": 19
        }
      ]
    },
    {
      "cell_type": "code",
      "source": [
        "train_x_copy=np.copy(train_x)\n",
        "test_x_copy=np.copy(test_x)"
      ],
      "metadata": {
        "id": "cOPfqN_9Xuy6"
      },
      "execution_count": null,
      "outputs": []
    },
    {
      "cell_type": "code",
      "source": [
        ""
      ],
      "metadata": {
        "id": "9ZoB31EcXu1h"
      },
      "execution_count": null,
      "outputs": []
    },
    {
      "cell_type": "code",
      "source": [
        ""
      ],
      "metadata": {
        "id": "iwq-IFJeXu4H"
      },
      "execution_count": null,
      "outputs": []
    },
    {
      "cell_type": "code",
      "source": [
        ""
      ],
      "metadata": {
        "id": "GCKT8j_YXu6u"
      },
      "execution_count": null,
      "outputs": []
    },
    {
      "cell_type": "code",
      "source": [
        ""
      ],
      "metadata": {
        "id": "T4XJRt6CXu82"
      },
      "execution_count": null,
      "outputs": []
    },
    {
      "cell_type": "markdown",
      "metadata": {
        "id": "5mCmvlf-VfM5"
      },
      "source": [
        "## Find the Baseline (0.5 point)"
      ]
    },
    {
      "cell_type": "code",
      "execution_count": null,
      "metadata": {
        "id": "p1Scym9-VfM5",
        "colab": {
          "base_uri": "https://localhost:8080/"
        },
        "outputId": "1aa4ab39-ee76-42e7-e06e-2e7e5c24006c"
      },
      "outputs": [
        {
          "output_type": "stream",
          "name": "stdout",
          "text": [
            "attendance_binary\n",
            "1                    0.512637\n",
            "0                    0.487363\n",
            "dtype: float64\n"
          ]
        }
      ],
      "source": [
        "# Find majority class\n",
        "train_y.value_counts()\n",
        "# Find percentage\n",
        "print(train_y.value_counts()/len(train_y))"
      ]
    },
    {
      "cell_type": "code",
      "execution_count": null,
      "metadata": {
        "id": "Zizq9NelVfM6"
      },
      "outputs": [],
      "source": [
        "#So the baseline accuracy is 51 percent."
      ]
    },
    {
      "cell_type": "markdown",
      "metadata": {
        "id": "rsSZNw-VVfM6"
      },
      "source": [
        "# Section 2: (3 points in total)\n",
        "\n",
        "Build three different SVM models (by changing the kernels, regularization, etc.). Generate their training and test values. Each model is worth 1 point. \n",
        "\n",
        "(Add cells as needed)"
      ]
    },
    {
      "cell_type": "markdown",
      "metadata": {
        "id": "BWbPSxb8VfM6"
      },
      "source": [
        "## SVM Model 1:"
      ]
    },
    {
      "cell_type": "markdown",
      "source": [
        "**SVM with Linear Kernal**"
      ],
      "metadata": {
        "id": "QpCIAfd7YwtJ"
      }
    },
    {
      "cell_type": "code",
      "execution_count": null,
      "metadata": {
        "id": "CS6HWIziVfM6",
        "colab": {
          "base_uri": "https://localhost:8080/"
        },
        "outputId": "bfc11839-395f-4568-946a-af995578cef4"
      },
      "outputs": [
        {
          "output_type": "stream",
          "name": "stderr",
          "text": [
            "/usr/local/lib/python3.7/dist-packages/sklearn/utils/validation.py:993: DataConversionWarning: A column-vector y was passed when a 1d array was expected. Please change the shape of y to (n_samples, ), for example using ravel().\n",
            "  y = column_or_1d(y, warn=True)\n"
          ]
        },
        {
          "output_type": "execute_result",
          "data": {
            "text/plain": [
              "SVC(C=10, kernel='linear')"
            ]
          },
          "metadata": {},
          "execution_count": 22
        }
      ],
      "source": [
        "from sklearn.svm import SVC\n",
        " \n",
        "model1 = SVC(kernel=\"linear\",C=10)\n",
        "\n",
        "model1.fit(train_x, train_y)"
      ]
    },
    {
      "cell_type": "code",
      "source": [
        "from sklearn.metrics import accuracy_score\n",
        "#Predict the train values\n",
        "train_y_pred = model1.predict(train_x)\n",
        "\n",
        "#Train accuracy\n",
        "print(\"Accuracy on Train set:\",accuracy_score(train_y, train_y_pred))"
      ],
      "metadata": {
        "colab": {
          "base_uri": "https://localhost:8080/"
        },
        "id": "ewWuKsXgYoH-",
        "outputId": "c9d9929c-b7c8-42fa-cba1-5248559bb2d1"
      },
      "execution_count": null,
      "outputs": [
        {
          "output_type": "stream",
          "name": "stdout",
          "text": [
            "Accuracy on Train set: 0.8340659340659341\n"
          ]
        }
      ]
    },
    {
      "cell_type": "code",
      "source": [
        "#Predict the test values\n",
        "test_y_pred = model1.predict(test_x)\n",
        "\n",
        "#Test accuracy\n",
        "print(\"Accuracy on Test set:\",accuracy_score(test_y, test_y_pred))"
      ],
      "metadata": {
        "colab": {
          "base_uri": "https://localhost:8080/"
        },
        "id": "uF6X3o7zYoKy",
        "outputId": "a27607d2-d091-4883-83b0-79aa0b6e3b20"
      },
      "execution_count": null,
      "outputs": [
        {
          "output_type": "stream",
          "name": "stdout",
          "text": [
            "Accuracy on Test set: 0.8434925864909391\n"
          ]
        }
      ]
    },
    {
      "cell_type": "markdown",
      "source": [
        "**Analysis(Model 1):**\n",
        "1.   We see that model accuracy on the train set is above the base line so we can clearly say that its a descnet fit\n",
        "2.   And also we can conclude that there is no over fitting from the accuracy values \n",
        "\n"
      ],
      "metadata": {
        "id": "Q5i-EnY7ZXLJ"
      }
    },
    {
      "cell_type": "code",
      "source": [
        ""
      ],
      "metadata": {
        "id": "PAQRmJVbYoQA"
      },
      "execution_count": null,
      "outputs": []
    },
    {
      "cell_type": "code",
      "source": [
        ""
      ],
      "metadata": {
        "id": "kl4TE9nbYoZW"
      },
      "execution_count": null,
      "outputs": []
    },
    {
      "cell_type": "code",
      "execution_count": null,
      "metadata": {
        "id": "Lcbw8OaGVfM6"
      },
      "outputs": [],
      "source": [
        ""
      ]
    },
    {
      "cell_type": "markdown",
      "metadata": {
        "id": "4HX1I7OPVfM6"
      },
      "source": [
        "## SVM Model 2:"
      ]
    },
    {
      "cell_type": "markdown",
      "source": [
        "**Model 2** :\n",
        " Here i am building SVC model with polynomial terms in it."
      ],
      "metadata": {
        "id": "A8ZmlLBWaBK5"
      }
    },
    {
      "cell_type": "code",
      "execution_count": null,
      "metadata": {
        "id": "OIGbm29qVfM6"
      },
      "outputs": [],
      "source": [
        "#Generating the polynomial Terms\n",
        "\n",
        "from sklearn.preprocessing import PolynomialFeatures\n",
        "\n",
        "# Create third degree terms\n",
        "poly_features = PolynomialFeatures(degree=3, include_bias=False)\n",
        "\n",
        "train_x_poly = poly_features.fit_transform(train_x)\n",
        "\n",
        "test_x_poly = poly_features.transform(test_x)\n",
        "\n"
      ]
    },
    {
      "cell_type": "code",
      "source": [
        "#Data Dimensions \n",
        "train_x_poly.shape"
      ],
      "metadata": {
        "colab": {
          "base_uri": "https://localhost:8080/"
        },
        "id": "lSYoSAgSiuTq",
        "outputId": "0b789145-13bd-4e6d-f97f-a6b61278e087"
      },
      "execution_count": null,
      "outputs": [
        {
          "output_type": "execute_result",
          "data": {
            "text/plain": [
              "(1820, 9879)"
            ]
          },
          "metadata": {},
          "execution_count": 43
        }
      ]
    },
    {
      "cell_type": "code",
      "execution_count": null,
      "metadata": {
        "id": "peh9E907VfM6",
        "colab": {
          "base_uri": "https://localhost:8080/"
        },
        "outputId": "930bf23f-8fbc-4330-d86c-9ead92fc89f4"
      },
      "outputs": [
        {
          "output_type": "stream",
          "name": "stderr",
          "text": [
            "/usr/local/lib/python3.7/dist-packages/sklearn/utils/validation.py:993: DataConversionWarning: A column-vector y was passed when a 1d array was expected. Please change the shape of y to (n_samples, ), for example using ravel().\n",
            "  y = column_or_1d(y, warn=True)\n"
          ]
        },
        {
          "output_type": "execute_result",
          "data": {
            "text/plain": [
              "LinearSVC(C=10, max_iter=3000)"
            ]
          },
          "metadata": {},
          "execution_count": 46
        }
      ],
      "source": [
        "#Increased the Iterations to 4000 to make it Converge on optimal Decision Boundry\n",
        "from sklearn.svm import LinearSVC \n",
        "\n",
        "pol_svm = LinearSVC(C=10,max_iter=3000)\n",
        "\n",
        "pol_svm.fit(train_x_poly, train_y)"
      ]
    },
    {
      "cell_type": "code",
      "source": [
        "#Predict the train values\n",
        "train_y_poly_pred = pol_svm.predict(train_x_poly)\n",
        "\n",
        "#Train accuracy\n",
        "print(\"Accuracy of Train set:\",accuracy_score(train_y, train_y_poly_pred))"
      ],
      "metadata": {
        "colab": {
          "base_uri": "https://localhost:8080/"
        },
        "id": "vXXAnLJgerkt",
        "outputId": "46adb3fc-f20b-4c16-f980-3e6b2b41d363"
      },
      "execution_count": null,
      "outputs": [
        {
          "output_type": "stream",
          "name": "stdout",
          "text": [
            "Accuracy of Train set: 1.0\n"
          ]
        }
      ]
    },
    {
      "cell_type": "code",
      "source": [
        "#Predict the test values\n",
        "test_y_poly_pred = pol_svm.predict(test_x_poly)\n",
        "\n",
        "#Test accuracy\n",
        "print(\"Accuracy of Test set:\",accuracy_score(test_y, test_y_poly_pred))"
      ],
      "metadata": {
        "colab": {
          "base_uri": "https://localhost:8080/"
        },
        "id": "Sy3lQkdzernw",
        "outputId": "3f964437-bd15-4e70-8720-c34d433d9b58"
      },
      "execution_count": null,
      "outputs": [
        {
          "output_type": "stream",
          "name": "stdout",
          "text": [
            "Accuracy of Test set: 0.7528830313014827\n"
          ]
        }
      ]
    },
    {
      "cell_type": "markdown",
      "source": [
        "**Analysis (Model 2):**\n",
        "*   Clearly from the above model we can say there is overfitting, becuase we got a training accuracy of 1.0(100%) , and accuary on test set is consideralbly low. \n",
        "\n",
        "*   The reason from Over-fitting is that due to high number of features 9879 which is very large\n",
        "\n",
        "\n"
      ],
      "metadata": {
        "id": "cQNDojgRe2sI"
      }
    },
    {
      "cell_type": "markdown",
      "source": [
        "#Sub Model 2.1 (Reducing the polynomial degree to 2\n",
        "\n",
        "---\n",
        "\n"
      ],
      "metadata": {
        "id": "mCDdEZyKgfXq"
      }
    },
    {
      "cell_type": "code",
      "source": [
        ""
      ],
      "metadata": {
        "colab": {
          "base_uri": "https://localhost:8080/"
        },
        "id": "lrt27pW4ky8J",
        "outputId": "0d0ab65f-a097-4bd2-f5ed-61a71b549cd7"
      },
      "execution_count": null,
      "outputs": [
        {
          "output_type": "execute_result",
          "data": {
            "text/plain": [
              "(1820, 37)"
            ]
          },
          "metadata": {},
          "execution_count": 70
        }
      ]
    },
    {
      "cell_type": "code",
      "source": [
        "from sklearn.svm import SVC\n",
        "\n",
        "# You need to enter a value for gamma. Remember, gamma controls the shape of the bell curve for rbf\n",
        "# You can also set it is as gamma='scale'. This will be the default option in future releases\n",
        "\n",
        "pol_svm2 = SVC(kernel=\"poly\", degree=2, coef0=2, C=8, gamma='scale')\n",
        "\n",
        "pol_svm2.fit(train_x, train_y)"
      ],
      "metadata": {
        "colab": {
          "base_uri": "https://localhost:8080/"
        },
        "id": "2cgpgx42e12v",
        "outputId": "5eed5c92-b78f-4c44-a3e6-1ed2807c2702"
      },
      "execution_count": null,
      "outputs": [
        {
          "output_type": "stream",
          "name": "stderr",
          "text": [
            "/usr/local/lib/python3.7/dist-packages/sklearn/utils/validation.py:993: DataConversionWarning: A column-vector y was passed when a 1d array was expected. Please change the shape of y to (n_samples, ), for example using ravel().\n",
            "  y = column_or_1d(y, warn=True)\n"
          ]
        },
        {
          "output_type": "execute_result",
          "data": {
            "text/plain": [
              "SVC(C=8, coef0=2, degree=2, kernel='poly')"
            ]
          },
          "metadata": {},
          "execution_count": 71
        }
      ]
    },
    {
      "cell_type": "code",
      "source": [
        "#Predict the train values\n",
        "train_y_pred = pol_svm2.predict(train_x)\n",
        "\n",
        "#Train accuracy\n",
        "accuracy_score(train_y, train_y)"
      ],
      "metadata": {
        "colab": {
          "base_uri": "https://localhost:8080/"
        },
        "id": "wA5rCHPQi-sh",
        "outputId": "ece65d49-9c36-417f-e20a-56925ee5e8fd"
      },
      "execution_count": null,
      "outputs": [
        {
          "output_type": "execute_result",
          "data": {
            "text/plain": [
              "1.0"
            ]
          },
          "metadata": {},
          "execution_count": 72
        }
      ]
    },
    {
      "cell_type": "code",
      "source": [
        "#Predict the test values\n",
        "test_y_pred = pol_svm2.predict(test_x)\n",
        "\n",
        "#Test accuracy\n",
        "accuracy_score(test_y, test_y_pred)"
      ],
      "metadata": {
        "colab": {
          "base_uri": "https://localhost:8080/"
        },
        "id": "D0iP_4YYhzZ0",
        "outputId": "4e2208a6-79a8-49e5-ef6f-2d01def18afd"
      },
      "execution_count": null,
      "outputs": [
        {
          "output_type": "execute_result",
          "data": {
            "text/plain": [
              "0.8270181219110379"
            ]
          },
          "metadata": {},
          "execution_count": 73
        }
      ]
    },
    {
      "cell_type": "code",
      "source": [
        ""
      ],
      "metadata": {
        "id": "-S5Et5_uhzdK"
      },
      "execution_count": null,
      "outputs": []
    },
    {
      "cell_type": "code",
      "source": [
        ""
      ],
      "metadata": {
        "id": "-Z1WQ_DHhzf-"
      },
      "execution_count": null,
      "outputs": []
    },
    {
      "cell_type": "code",
      "source": [
        ""
      ],
      "metadata": {
        "id": "Zyw_lP_3er8V"
      },
      "execution_count": null,
      "outputs": []
    },
    {
      "cell_type": "markdown",
      "metadata": {
        "id": "vM4pWxm2VfM6"
      },
      "source": [
        "## SVM Model 3:"
      ]
    },
    {
      "cell_type": "markdown",
      "source": [
        "#Bewlow we build a SVM model using rbf kernal "
      ],
      "metadata": {
        "id": "XMGDS0JJmSRZ"
      }
    },
    {
      "cell_type": "code",
      "execution_count": null,
      "metadata": {
        "id": "Qe9I_f1UVfM7",
        "colab": {
          "base_uri": "https://localhost:8080/"
        },
        "outputId": "836b1b31-5abb-4680-e5a4-5ee213e7bcaa"
      },
      "outputs": [
        {
          "output_type": "stream",
          "name": "stderr",
          "text": [
            "/usr/local/lib/python3.7/dist-packages/sklearn/utils/validation.py:993: DataConversionWarning: A column-vector y was passed when a 1d array was expected. Please change the shape of y to (n_samples, ), for example using ravel().\n",
            "  y = column_or_1d(y, warn=True)\n"
          ]
        },
        {
          "output_type": "execute_result",
          "data": {
            "text/plain": [
              "SVC(C=6)"
            ]
          },
          "metadata": {},
          "execution_count": 86
        }
      ],
      "source": [
        "#Passing \"rgf\" as a kernal parameter to the SVC to make it use rbf kernal.\n",
        "rbf_svm = SVC(kernel=\"rbf\", C=6, gamma='scale')\n",
        "\n",
        "rbf_svm.fit(train_x, train_y)"
      ]
    },
    {
      "cell_type": "code",
      "source": [
        "#Predict the train values\n",
        "train_y_pred = rbf_svm.predict(train_x)\n",
        "\n",
        "#Train accuracy\n",
        "print(\"Accuracy on the test set:\",accuracy_score(train_y, train_y_pred))"
      ],
      "metadata": {
        "colab": {
          "base_uri": "https://localhost:8080/"
        },
        "id": "FwGbCFLLmPQb",
        "outputId": "51339572-3572-4b2f-e8d0-5681c3cdbc52"
      },
      "execution_count": null,
      "outputs": [
        {
          "output_type": "stream",
          "name": "stdout",
          "text": [
            "Accuracy on the test set: 0.9538461538461539\n"
          ]
        }
      ]
    },
    {
      "cell_type": "code",
      "source": [
        "#Predict the test values\n",
        "test_y_pred = rbf_svm.predict(test_x)\n",
        "\n",
        "#Test accuracy\n",
        "print(\"Accuracy on the test test:\",accuracy_score(test_y, test_y_pred))"
      ],
      "metadata": {
        "colab": {
          "base_uri": "https://localhost:8080/"
        },
        "id": "qSYhHw7ymPUE",
        "outputId": "d9426ce6-ba86-4cf9-85f8-54f16c2a4527"
      },
      "execution_count": null,
      "outputs": [
        {
          "output_type": "stream",
          "name": "stdout",
          "text": [
            "Accuracy on the test test: 0.8088962108731467\n"
          ]
        }
      ]
    },
    {
      "cell_type": "markdown",
      "source": [
        "**Analysis:**\n",
        "\n",
        "\n",
        "*   we see that among all the 3 models we build rbf kernal perfomed well. and also there is no evidence of over fitting also.\n",
        "*   we can still achive better accuray by tweaking with C parameter that controls the regularization.\n",
        "\n"
      ],
      "metadata": {
        "id": "xbPiBZxUm1cf"
      }
    },
    {
      "cell_type": "code",
      "source": [
        ""
      ],
      "metadata": {
        "id": "vDNOR2_OmiVw"
      },
      "execution_count": null,
      "outputs": []
    },
    {
      "cell_type": "code",
      "source": [
        ""
      ],
      "metadata": {
        "id": "xezK2s9mmPXZ"
      },
      "execution_count": null,
      "outputs": []
    },
    {
      "cell_type": "markdown",
      "metadata": {
        "id": "GtCCutcbVfM7"
      },
      "source": [
        "# Section 3: (3 points in total)\n",
        "\n",
        "Build two different SGD models (by changing the penalty, etc. or adding polynomial terms) and one LogisticRregression model. Generate their training and test values. Each model is worth 1 point.\n",
        "\n",
        "(Add cells as needed)"
      ]
    },
    {
      "cell_type": "markdown",
      "metadata": {
        "id": "ubwVx1F9VfM7"
      },
      "source": [
        "## SGD Model 1:"
      ]
    },
    {
      "cell_type": "code",
      "execution_count": null,
      "metadata": {
        "id": "Ych6ZdSsVfM7"
      },
      "outputs": [],
      "source": [
        "#Importing required modeules.\n",
        "from sklearn.linear_model import SGDClassifier\n"
      ]
    },
    {
      "cell_type": "code",
      "source": [
        "sdgModel1 = SGDClassifier(loss=\"log\", penalty=\"l2\",max_iter=1500,tol=1e-3)\n"
      ],
      "metadata": {
        "id": "b32aNxYIntjj"
      },
      "execution_count": null,
      "outputs": []
    },
    {
      "cell_type": "code",
      "source": [
        ""
      ],
      "metadata": {
        "id": "sXRHxG8Enttr"
      },
      "execution_count": null,
      "outputs": []
    },
    {
      "cell_type": "code",
      "execution_count": null,
      "metadata": {
        "id": "RTNT2NchVfM7"
      },
      "outputs": [],
      "source": [
        ""
      ]
    },
    {
      "cell_type": "markdown",
      "metadata": {
        "id": "H9rqnAdPVfM7"
      },
      "source": [
        "## SGD Model 2:"
      ]
    },
    {
      "cell_type": "code",
      "execution_count": null,
      "metadata": {
        "id": "x0uhVK_AVfM7"
      },
      "outputs": [],
      "source": [
        ""
      ]
    },
    {
      "cell_type": "code",
      "execution_count": null,
      "metadata": {
        "id": "5XcrazxRVfM7"
      },
      "outputs": [],
      "source": [
        ""
      ]
    },
    {
      "cell_type": "markdown",
      "metadata": {
        "id": "HJ-9--KZVfM7"
      },
      "source": [
        "## LogisticRegression Model:"
      ]
    },
    {
      "cell_type": "code",
      "execution_count": 106,
      "metadata": {
        "id": "IPabJkoDVfM7",
        "colab": {
          "base_uri": "https://localhost:8080/"
        },
        "outputId": "a34758cf-b28f-4c64-eb39-e8fdec2c8039"
      },
      "outputs": [
        {
          "output_type": "stream",
          "name": "stderr",
          "text": [
            "/usr/local/lib/python3.7/dist-packages/sklearn/utils/validation.py:993: DataConversionWarning: A column-vector y was passed when a 1d array was expected. Please change the shape of y to (n_samples, ), for example using ravel().\n",
            "  y = column_or_1d(y, warn=True)\n"
          ]
        },
        {
          "output_type": "execute_result",
          "data": {
            "text/plain": [
              "LogisticRegression()"
            ]
          },
          "metadata": {},
          "execution_count": 106
        }
      ],
      "source": [
        "from sklearn.linear_model import LogisticRegression\n",
        "from sklearn.metrics import accuracy_score\n",
        "\n",
        "log_reg = LogisticRegression(penalty='l2')\n",
        "\n",
        "log_reg.fit(train_x, train_y)"
      ]
    },
    {
      "cell_type": "code",
      "source": [
        "#Predict the train values\n",
        "train_y_pred = log_reg.predict(train_x)\n",
        "\n",
        "#Train accuracy\n",
        "accuracy_score(train_y, train_y_pred)"
      ],
      "metadata": {
        "colab": {
          "base_uri": "https://localhost:8080/"
        },
        "id": "PZQudtuVopsf",
        "outputId": "82a3b11a-887b-4696-b0d8-31378652d34c"
      },
      "execution_count": null,
      "outputs": [
        {
          "output_type": "execute_result",
          "data": {
            "text/plain": [
              "0.8324175824175825"
            ]
          },
          "metadata": {},
          "execution_count": 99
        }
      ]
    },
    {
      "cell_type": "code",
      "source": [
        "#Predict the test values\n",
        "test_y_pred = log_reg.predict(test_x)\n",
        "\n",
        "#Test accuracy\n",
        "accuracy_score(test_y, test_y_pred)"
      ],
      "metadata": {
        "colab": {
          "base_uri": "https://localhost:8080/"
        },
        "id": "b2b3sAofop1z",
        "outputId": "e14ab3f3-d514-4d10-afd6-a3e7f9da2fdd"
      },
      "execution_count": null,
      "outputs": [
        {
          "output_type": "execute_result",
          "data": {
            "text/plain": [
              "0.8434925864909391"
            ]
          },
          "metadata": {},
          "execution_count": 100
        }
      ]
    },
    {
      "cell_type": "code",
      "source": [
        "from sklearn.metrics import confusion_matrix\n",
        "\n",
        "#We usually create the confusion matrix on test set\n",
        "confusion_matrix(test_y, test_y_pred)"
      ],
      "metadata": {
        "colab": {
          "base_uri": "https://localhost:8080/"
        },
        "id": "ebejx4Avop47",
        "outputId": "804a9541-4149-4f4f-b9a6-d175f04df64d"
      },
      "execution_count": null,
      "outputs": [
        {
          "output_type": "execute_result",
          "data": {
            "text/plain": [
              "array([[236,  45],\n",
              "       [ 50, 276]])"
            ]
          },
          "metadata": {},
          "execution_count": 101
        }
      ]
    },
    {
      "cell_type": "code",
      "source": [
        "from sklearn.metrics import classification_report\n",
        "\n",
        "#We usually create the classification report on test set\n",
        "print(classification_report(test_y, test_y_pred))"
      ],
      "metadata": {
        "colab": {
          "base_uri": "https://localhost:8080/"
        },
        "id": "cAh4n6RBraSm",
        "outputId": "33babf18-03d4-4765-b2e0-7e075ab7dbd2"
      },
      "execution_count": null,
      "outputs": [
        {
          "output_type": "stream",
          "name": "stdout",
          "text": [
            "              precision    recall  f1-score   support\n",
            "\n",
            "           0       0.83      0.84      0.83       281\n",
            "           1       0.86      0.85      0.85       326\n",
            "\n",
            "    accuracy                           0.84       607\n",
            "   macro avg       0.84      0.84      0.84       607\n",
            "weighted avg       0.84      0.84      0.84       607\n",
            "\n"
          ]
        }
      ]
    },
    {
      "cell_type": "markdown",
      "source": [
        "**Analysis (Logistic Regression):**\n",
        "\n",
        "*   We think the model fit is good and there is no over fitting or under fitting. \n",
        "*   One reason we are seeing little bit more accuracy on test (84.3) compared to train (83.2), is we think due to split in data, we made 75% train and 25% test, so it could be the reason for these numberes.\n",
        "*   Apart from that we fit the scores we got are acceptable when compared with base line accuracy. \n",
        "\n",
        "\n"
      ],
      "metadata": {
        "id": "huuBhnWYp08k"
      }
    },
    {
      "cell_type": "code",
      "source": [
        ""
      ],
      "metadata": {
        "id": "d22JHB8Hop7Q"
      },
      "execution_count": null,
      "outputs": []
    },
    {
      "cell_type": "code",
      "execution_count": null,
      "metadata": {
        "id": "9lbAcIOTVfM7"
      },
      "outputs": [],
      "source": [
        ""
      ]
    },
    {
      "cell_type": "markdown",
      "metadata": {
        "id": "K2FqUE4XVfM7"
      },
      "source": [
        "# Discussion (3 points in total)\n"
      ]
    },
    {
      "cell_type": "markdown",
      "metadata": {
        "id": "eSiw6wS9VfM7"
      },
      "source": [
        "## List the train and test values of each model you built (1 point)"
      ]
    },
    {
      "cell_type": "raw",
      "metadata": {
        "id": "bEn-950GVfM7"
      },
      "source": [
        ""
      ]
    },
    {
      "cell_type": "markdown",
      "metadata": {
        "id": "MhonsVEsVfM7"
      },
      "source": [
        "## Which model performs the best and why? (0.5 points) How does it compare to baseline? (0.5 points)\n",
        "\n",
        "Hint: The best model is the one that has the highest TEST score (regardless of any of the training values). If you select your model based on TRAIN values, you will lose points."
      ]
    },
    {
      "cell_type": "raw",
      "metadata": {
        "id": "evRFJgmMVfM7"
      },
      "source": [
        ""
      ]
    },
    {
      "cell_type": "markdown",
      "metadata": {
        "id": "Avg5_jUtVfM8"
      },
      "source": [
        "## Is there any evidence of overfitting in the best model, why or why not? If there is, what did you do about it? (0.5 points)"
      ]
    },
    {
      "cell_type": "raw",
      "metadata": {
        "id": "jn6nX75kVfM8"
      },
      "source": [
        ""
      ]
    },
    {
      "cell_type": "markdown",
      "metadata": {
        "id": "pgts3AGEVfM8"
      },
      "source": [
        "## Is there any evidence of overfitting in the other models (besides the best model), why or why not? If there is, what did you do about it? (0.5 points)"
      ]
    },
    {
      "cell_type": "raw",
      "metadata": {
        "id": "THoQzoKNVfM8"
      },
      "source": [
        ""
      ]
    }
  ],
  "metadata": {
    "kernelspec": {
      "display_name": "Python 3 (ipykernel)",
      "language": "python",
      "name": "python3"
    },
    "language_info": {
      "codemirror_mode": {
        "name": "ipython",
        "version": 3
      },
      "file_extension": ".py",
      "mimetype": "text/x-python",
      "name": "python",
      "nbconvert_exporter": "python",
      "pygments_lexer": "ipython3",
      "version": "3.9.7"
    },
    "toc": {
      "base_numbering": 1,
      "nav_menu": {},
      "number_sections": false,
      "sideBar": true,
      "skip_h1_title": false,
      "title_cell": "Table of Contents",
      "title_sidebar": "Contents",
      "toc_cell": false,
      "toc_position": {},
      "toc_section_display": true,
      "toc_window_display": false
    },
    "colab": {
      "name": "Group work - Classification.ipynb",
      "provenance": [],
      "collapsed_sections": [],
      "include_colab_link": true
    }
  },
  "nbformat": 4,
  "nbformat_minor": 0
}